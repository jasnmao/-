{
 "cells": [
  {
   "cell_type": "code",
   "execution_count": 13,
   "metadata": {},
   "outputs": [],
   "source": [
    "%matplotlib inline\n",
    "import torch\n",
    "from d2l import torch as d2l"
   ]
  },
  {
   "cell_type": "code",
   "execution_count": 14,
   "metadata": {},
   "outputs": [],
   "source": [
    "torch.set_printoptions(2)\n",
    "def multibox_prior(data,sizes,ratios):\n",
    "    in_height,in_width=data.shape[-2:]\n",
    "    device,num_sizes,num_ratios=data.device,len(sizes),len(ratios)\n",
    "    boxes_per_pixel=(num_sizes+num_ratios-1)\n",
    "    size_tensor=torch.tensor(sizes,device=device)\n",
    "    ratio_tensor=torch.tensor(ratios,device=device)\n",
    "    offset_h,offset_w=0.5,0.5\n",
    "    steps_h=1.0/in_height\n",
    "    steps_w=1.0/in_width\n",
    "    center_h=(torch.arange(in_height,device=device)+offset_h)*steps_h\n",
    "    center_w=(torch.arange(in_width,device=device)+offset_w)*steps_w\n",
    "    shift_y,shift_x=torch.meshgrid(center_h,center_w,indexing='ij')\n",
    "    shift_y,shift_x=shift_y.reshape(-1),shift_x.reshape(-1)\n",
    "    w=torch.cat((size_tensor*torch.sqrt(ratio_tensor[0]),sizes[0]*torch.sqrt(ratio_tensor[1:])))*in_height/in_width\n",
    "    h=torch.cat((size_tensor/torch.sqrt(ratio_tensor[0]),sizes[0]/torch.sqrt(ratio_tensor[1:])))\n",
    "    anchor_manipulations=torch.stack((-w,-h,w,h)).T.repeat(in_height*in_width,1)/2\n",
    "    out_grid=torch.stack([shift_x,shift_y,shift_x,shift_y],dim=1).repeat_interleave(boxes_per_pixel,dim=0)\n",
    "    output=out_grid+anchor_manipulations\n",
    "    return output.squeeze(0)"
   ]
  },
  {
   "cell_type": "code",
   "execution_count": 15,
   "metadata": {},
   "outputs": [
    {
     "name": "stdout",
     "output_type": "stream",
     "text": [
      "467 600\n",
      "torch.Size([1401000, 4])\n"
     ]
    }
   ],
   "source": [
    "img=d2l.plt.imread(\"D:\\deep learning\\catdog.png\")\n",
    "h,w=img.shape[:2]\n",
    "print(h,w)\n",
    "X=torch.rand(size=(1,3,h,w))\n",
    "Y=multibox_prior(X,sizes=[0.75,0.5,0.25],ratios=[1,2,0.5])\n",
    "print(Y.shape)"
   ]
  }
 ],
 "metadata": {
  "kernelspec": {
   "display_name": "base",
   "language": "python",
   "name": "python3"
  },
  "language_info": {
   "codemirror_mode": {
    "name": "ipython",
    "version": 3
   },
   "file_extension": ".py",
   "mimetype": "text/x-python",
   "name": "python",
   "nbconvert_exporter": "python",
   "pygments_lexer": "ipython3",
   "version": "3.11.5"
  }
 },
 "nbformat": 4,
 "nbformat_minor": 2
}
